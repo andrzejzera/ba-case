{
 "cells": [
  {
   "cell_type": "markdown",
   "metadata": {},
   "source": [
    "# Beer Advocate Case"
   ]
  },
  {
   "cell_type": "markdown",
   "metadata": {},
   "source": [
    "## About the dataset"
   ]
  },
  {
   "cell_type": "markdown",
   "metadata": {},
   "source": [
    "This dataset consists of beer reviews from Beeradvocate. The data span a period of more than 10 years, including all ~1.5 million reviews up to November 2011. Each review includes ratings in terms of five \"aspects\": appearance, aroma, palate, taste, and overall impression. Reviews include product and user information, followed by each of these five ratings, and a plaintext review. We also have reviews from ratebeer.\n",
    "\n",
    "https://data.world/socialmediadata/beeradvocate"
   ]
  },
  {
   "cell_type": "markdown",
   "metadata": {},
   "source": [
    "## About the task"
   ]
  },
  {
   "cell_type": "markdown",
   "metadata": {},
   "source": [
    "The task is about to provide an answer for the following questions:\n",
    "\n",
    "- Which brewery produces the strongest beers by abv ?\n",
    "- If you had to pick 3 beers to recommend to someone, how would you approach the problem ?\n",
    "- What are the factors that impacts the quality of beer the most ?\n",
    "- I enjoy a beer which aroma and appearance matches the beer style. What beer should I buy ?"
   ]
  },
  {
   "cell_type": "markdown",
   "metadata": {},
   "source": [
    "## Approach"
   ]
  },
  {
   "cell_type": "markdown",
   "metadata": {},
   "source": [
    "To tackle this task, I have decided to prepare the analysis in Jupyter Notebooks using Python and well-known Python libraries. Although Jupyter Notebooks have their opponents, I believe that thanks to their interactive computing and data visualization capabilities they fit pretty well to ad-hoc analyses such as this one."
   ]
  },
  {
   "cell_type": "markdown",
   "metadata": {},
   "source": [
    "## Setup"
   ]
  },
  {
   "cell_type": "markdown",
   "metadata": {},
   "source": [
    "In this analysis I will be using Python 3.8 and the following libraries:\n",
    "- pandas - for using DataFrame as a primary data structure for the dataset\n",
    "- matplotlib and seaborn - for data visualization\n",
    "- numpy - for efficient matrix operations\n",
    "- additional libraries, when necessary"
   ]
  },
  {
   "cell_type": "code",
   "execution_count": 1,
   "metadata": {},
   "outputs": [],
   "source": [
    "import pandas as pd\n",
    "import matplotlib.pyplot as plt\n",
    "import seaborn as sns\n",
    "import numpy as np\n",
    "import sklearn\n",
    "from sklearn.linear_model import LinearRegression\n",
    "from sklearn.preprocessing import StandardScaler\n",
    "from datetime import datetime"
   ]
  },
  {
   "cell_type": "markdown",
   "metadata": {},
   "source": [
    "## Data exploration"
   ]
  },
  {
   "cell_type": "markdown",
   "metadata": {},
   "source": [
    "To start with, I would like to explore basic characteristics of the dataset to have a flavour of the data that will be used throughout this task."
   ]
  },
  {
   "cell_type": "code",
   "execution_count": 2,
   "metadata": {},
   "outputs": [],
   "source": [
    "def load_data(filename):\n",
    "    # Load data into pandas DataFrame\n",
    "    df = pd.read_csv(filename)\n",
    "    \n",
    "    # Reorder columns\n",
    "    df = df[[\n",
    "        'brewery_id',\n",
    "        'brewery_name',\n",
    "        'beer_beerid',\n",
    "        'beer_name',\n",
    "        'beer_style',\n",
    "        'beer_abv',\n",
    "        'review_time',\n",
    "        'review_profilename',\n",
    "        'review_appearance',\n",
    "        'review_aroma',\n",
    "        'review_palate',\n",
    "        'review_taste',\n",
    "        'review_overall'\n",
    "    ]]\n",
    "    \n",
    "    # Convert str columns to numeric\n",
    "    numeric_columns = [\n",
    "        \"beer_abv\",\n",
    "        \"review_appearance\",\n",
    "        \"review_aroma\",\n",
    "        \"review_palate\",\n",
    "        \"review_taste\",\n",
    "        \"review_overall\"\n",
    "    ]\n",
    "    df[numeric_columns] = df[numeric_columns].apply(pd.to_numeric)\n",
    "    \n",
    "    return df    "
   ]
  },
  {
   "cell_type": "code",
   "execution_count": 3,
   "metadata": {},
   "outputs": [
    {
     "data": {
      "text/html": [
       "<div>\n",
       "<style scoped>\n",
       "    .dataframe tbody tr th:only-of-type {\n",
       "        vertical-align: middle;\n",
       "    }\n",
       "\n",
       "    .dataframe tbody tr th {\n",
       "        vertical-align: top;\n",
       "    }\n",
       "\n",
       "    .dataframe thead th {\n",
       "        text-align: right;\n",
       "    }\n",
       "</style>\n",
       "<table border=\"1\" class=\"dataframe\">\n",
       "  <thead>\n",
       "    <tr style=\"text-align: right;\">\n",
       "      <th></th>\n",
       "      <th>brewery_id</th>\n",
       "      <th>brewery_name</th>\n",
       "      <th>beer_beerid</th>\n",
       "      <th>beer_name</th>\n",
       "      <th>beer_style</th>\n",
       "      <th>beer_abv</th>\n",
       "      <th>review_time</th>\n",
       "      <th>review_profilename</th>\n",
       "      <th>review_appearance</th>\n",
       "      <th>review_aroma</th>\n",
       "      <th>review_palate</th>\n",
       "      <th>review_taste</th>\n",
       "      <th>review_overall</th>\n",
       "    </tr>\n",
       "  </thead>\n",
       "  <tbody>\n",
       "    <tr>\n",
       "      <th>0</th>\n",
       "      <td>10325</td>\n",
       "      <td>Vecchio Birraio</td>\n",
       "      <td>47986</td>\n",
       "      <td>Sausa Weizen</td>\n",
       "      <td>Hefeweizen</td>\n",
       "      <td>5.0</td>\n",
       "      <td>1234817823</td>\n",
       "      <td>stcules</td>\n",
       "      <td>2.5</td>\n",
       "      <td>2.0</td>\n",
       "      <td>1.5</td>\n",
       "      <td>1.5</td>\n",
       "      <td>1.5</td>\n",
       "    </tr>\n",
       "    <tr>\n",
       "      <th>1</th>\n",
       "      <td>10325</td>\n",
       "      <td>Vecchio Birraio</td>\n",
       "      <td>48213</td>\n",
       "      <td>Red Moon</td>\n",
       "      <td>English Strong Ale</td>\n",
       "      <td>6.2</td>\n",
       "      <td>1235915097</td>\n",
       "      <td>stcules</td>\n",
       "      <td>3.0</td>\n",
       "      <td>2.5</td>\n",
       "      <td>3.0</td>\n",
       "      <td>3.0</td>\n",
       "      <td>3.0</td>\n",
       "    </tr>\n",
       "    <tr>\n",
       "      <th>2</th>\n",
       "      <td>10325</td>\n",
       "      <td>Vecchio Birraio</td>\n",
       "      <td>48215</td>\n",
       "      <td>Black Horse Black Beer</td>\n",
       "      <td>Foreign / Export Stout</td>\n",
       "      <td>6.5</td>\n",
       "      <td>1235916604</td>\n",
       "      <td>stcules</td>\n",
       "      <td>3.0</td>\n",
       "      <td>2.5</td>\n",
       "      <td>3.0</td>\n",
       "      <td>3.0</td>\n",
       "      <td>3.0</td>\n",
       "    </tr>\n",
       "    <tr>\n",
       "      <th>3</th>\n",
       "      <td>10325</td>\n",
       "      <td>Vecchio Birraio</td>\n",
       "      <td>47969</td>\n",
       "      <td>Sausa Pils</td>\n",
       "      <td>German Pilsener</td>\n",
       "      <td>5.0</td>\n",
       "      <td>1234725145</td>\n",
       "      <td>stcules</td>\n",
       "      <td>3.5</td>\n",
       "      <td>3.0</td>\n",
       "      <td>2.5</td>\n",
       "      <td>3.0</td>\n",
       "      <td>3.0</td>\n",
       "    </tr>\n",
       "    <tr>\n",
       "      <th>4</th>\n",
       "      <td>1075</td>\n",
       "      <td>Caldera Brewing Company</td>\n",
       "      <td>64883</td>\n",
       "      <td>Cauldron DIPA</td>\n",
       "      <td>American Double / Imperial IPA</td>\n",
       "      <td>7.7</td>\n",
       "      <td>1293735206</td>\n",
       "      <td>johnmichaelsen</td>\n",
       "      <td>4.0</td>\n",
       "      <td>4.5</td>\n",
       "      <td>4.0</td>\n",
       "      <td>4.5</td>\n",
       "      <td>4.0</td>\n",
       "    </tr>\n",
       "  </tbody>\n",
       "</table>\n",
       "</div>"
      ],
      "text/plain": [
       "   brewery_id             brewery_name  beer_beerid               beer_name  \\\n",
       "0       10325          Vecchio Birraio        47986            Sausa Weizen   \n",
       "1       10325          Vecchio Birraio        48213                Red Moon   \n",
       "2       10325          Vecchio Birraio        48215  Black Horse Black Beer   \n",
       "3       10325          Vecchio Birraio        47969              Sausa Pils   \n",
       "4        1075  Caldera Brewing Company        64883           Cauldron DIPA   \n",
       "\n",
       "                       beer_style  beer_abv  review_time review_profilename  \\\n",
       "0                      Hefeweizen       5.0   1234817823            stcules   \n",
       "1              English Strong Ale       6.2   1235915097            stcules   \n",
       "2          Foreign / Export Stout       6.5   1235916604            stcules   \n",
       "3                 German Pilsener       5.0   1234725145            stcules   \n",
       "4  American Double / Imperial IPA       7.7   1293735206     johnmichaelsen   \n",
       "\n",
       "   review_appearance  review_aroma  review_palate  review_taste  \\\n",
       "0                2.5           2.0            1.5           1.5   \n",
       "1                3.0           2.5            3.0           3.0   \n",
       "2                3.0           2.5            3.0           3.0   \n",
       "3                3.5           3.0            2.5           3.0   \n",
       "4                4.0           4.5            4.0           4.5   \n",
       "\n",
       "   review_overall  \n",
       "0             1.5  \n",
       "1             3.0  \n",
       "2             3.0  \n",
       "3             3.0  \n",
       "4             4.0  "
      ]
     },
     "execution_count": 3,
     "metadata": {},
     "output_type": "execute_result"
    }
   ],
   "source": [
    "df = load_data('data/beer_reviews.csv')\n",
    "df.head()"
   ]
  },
  {
   "cell_type": "markdown",
   "metadata": {},
   "source": [
    "Now, I would like to explore how many unique items we have in most important columns. For example, we can see, that the number of distinct beers is lower than the number of distinct beer names and therefore it makes sense to use `beer_beerid` column as a unique identifier for a beer, as different beers can be named the same from different breweries."
   ]
  },
  {
   "cell_type": "code",
   "execution_count": 4,
   "metadata": {
    "scrolled": true
   },
   "outputs": [
    {
     "name": "stdout",
     "output_type": "stream",
     "text": [
      "Unique breweries: 5840\n",
      "Unique beers: 66055\n",
      "Unique beer names: 56857\n",
      "Unique beer styles: 104\n",
      "Unique reviews: 1586614\n",
      "Unique reviewers: 33388\n"
     ]
    }
   ],
   "source": [
    "unique_breweries = len(df['brewery_id'].unique())\n",
    "unique_beers = len(df['beer_beerid'].unique())\n",
    "unique_beer_names = len(df['beer_name'].unique())\n",
    "unique_beer_styles = len(df['beer_style'].unique())\n",
    "unique_reviews = len(df)\n",
    "unique_reviewers = len(df['review_profilename'].unique())\n",
    "\n",
    "print(f\"Unique breweries: {unique_breweries}\")\n",
    "print(f\"Unique beers: {unique_beers}\")\n",
    "print(f\"Unique beer names: {unique_beer_names}\")\n",
    "print(f\"Unique beer styles: {unique_beer_styles}\")\n",
    "print(f\"Unique reviews: {unique_reviews}\")\n",
    "print(f\"Unique reviewers: {unique_reviewers}\")"
   ]
  },
  {
   "cell_type": "markdown",
   "metadata": {},
   "source": [
    "Before going to explore data in more detail, I would like to check if there are missing values in our dataset. It seems that there are some:\n",
    "- missing brewery names (15), but that's not an issue\n",
    "- missing beer abvs (67,785) which accounts for a high percentage of a total - that's the issue which will need to be addressed when answering Q1\n",
    "- missing review profilenames (348) - the number is not very significant, but again, this will need to be addressed when answering Q2"
   ]
  },
  {
   "cell_type": "code",
   "execution_count": 5,
   "metadata": {},
   "outputs": [],
   "source": [
    "def check_for_nulls(df):\n",
    "    for column in list(df):\n",
    "        null_count = df[column].isnull().sum()\n",
    "        null_ratio = null_count / len(df)\n",
    "        print(f\"{column.ljust(18)} \\t {null_count} \\t ({null_ratio*100:.2f}%)\")"
   ]
  },
  {
   "cell_type": "code",
   "execution_count": 6,
   "metadata": {},
   "outputs": [
    {
     "name": "stdout",
     "output_type": "stream",
     "text": [
      "brewery_id         \t 0 \t (0.00%)\n",
      "brewery_name       \t 15 \t (0.00%)\n",
      "beer_beerid        \t 0 \t (0.00%)\n",
      "beer_name          \t 0 \t (0.00%)\n",
      "beer_style         \t 0 \t (0.00%)\n",
      "beer_abv           \t 67785 \t (4.27%)\n",
      "review_time        \t 0 \t (0.00%)\n",
      "review_profilename \t 348 \t (0.02%)\n",
      "review_appearance  \t 0 \t (0.00%)\n",
      "review_aroma       \t 0 \t (0.00%)\n",
      "review_palate      \t 0 \t (0.00%)\n",
      "review_taste       \t 0 \t (0.00%)\n",
      "review_overall     \t 0 \t (0.00%)\n"
     ]
    }
   ],
   "source": [
    "check_for_nulls(df)"
   ]
  },
  {
   "cell_type": "markdown",
   "metadata": {},
   "source": [
    "Now I would like to explore specific fields in a bit more detail."
   ]
  },
  {
   "cell_type": "markdown",
   "metadata": {},
   "source": [
    "**Breweries (`brewery_id`)**\n",
    "\n",
    "I would like to see how many beers breweries produce (to be specific, those that are reviewed on BeerAdvocate).\n",
    "\n",
    "Data shows that the distribution of beers by brewery is highly skewed (even if placed on the log axis). While most most breweries produce fewer beers (the \"middle\" brewery produces just 5 bear judging by the median), there are breweries that produce really a lot (with the record brewery producing 855 beers)."
   ]
  },
  {
   "cell_type": "code",
   "execution_count": 7,
   "metadata": {},
   "outputs": [],
   "source": [
    "beers_by_brewery = df.groupby('brewery_id').beer_beerid.nunique()\n",
    "beers_by_brewery.name = \"Beers by brewery\"\n",
    "\n",
    "assert beers_by_brewery.sum() == unique_beers"
   ]
  },
  {
   "cell_type": "code",
   "execution_count": 8,
   "metadata": {},
   "outputs": [
    {
     "data": {
      "text/plain": [
       "<AxesSubplot:xlabel='Beers by brewery', ylabel='Count'>"
      ]
     },
     "execution_count": 8,
     "metadata": {},
     "output_type": "execute_result"
    },
    {
     "data": {
      "image/png": "[encoded data removed]",
      "text/plain": [
       "<Figure size 432x288 with 1 Axes>"
      ]
     },
     "metadata": {
      "needs_background": "light"
     },
     "output_type": "display_data"
    }
   ],
   "source": [
    "sns.histplot(data=beers_by_brewery,\n",
    "             log_scale=True)"
   ]
  },
  {
   "cell_type": "code",
   "execution_count": 9,
   "metadata": {},
   "outputs": [
    {
     "name": "stdout",
     "output_type": "stream",
     "text": [
      "The record brewery produces 855 beers that are rated on BeerAdvocate\n"
     ]
    }
   ],
   "source": [
    "print(f\"The record brewery produces {beers_by_brewery.max()} beers that are rated on BeerAdvocate\")"
   ]
  },
  {
   "cell_type": "code",
   "execution_count": 10,
   "metadata": {},
   "outputs": [
    {
     "data": {
      "text/plain": [
       "11.310787671232877"
      ]
     },
     "execution_count": 10,
     "metadata": {},
     "output_type": "execute_result"
    }
   ],
   "source": [
    "beers_by_brewery.mean()"
   ]
  },
  {
   "cell_type": "code",
   "execution_count": 11,
   "metadata": {},
   "outputs": [
    {
     "data": {
      "text/plain": [
       "5.0"
      ]
     },
     "execution_count": 11,
     "metadata": {},
     "output_type": "execute_result"
    }
   ],
   "source": [
    "beers_by_brewery.median()"
   ]
  },
  {
   "cell_type": "markdown",
   "metadata": {},
   "source": [
    "**Beers (`beer_beerid`)**\n",
    "\n",
    "I would like to see how many reviews beers have on BeerAdvocate.\n",
    "\n",
    "Again, there is a similar pattern here as for beers by brewery. The distribution of reviews by beer is highly skewed with the long tail on the right hand side. Most beers are rated just once, but the record beer was rated more than 3 thousand times."
   ]
  },
  {
   "cell_type": "code",
   "execution_count": 12,
   "metadata": {},
   "outputs": [],
   "source": [
    "reviews_by_beer = df.groupby('beer_beerid').beer_beerid.count()  # each row represents a separate review\n",
    "reviews_by_beer.name = \"Reviews by beer\"\n",
    "\n",
    "assert reviews_by_beer.sum() == df.shape[0]"
   ]
  },
  {
   "cell_type": "code",
   "execution_count": 13,
   "metadata": {},
   "outputs": [
    {
     "data": {
      "text/plain": [
       "<AxesSubplot:xlabel='Reviews by beer', ylabel='Count'>"
      ]
     },
     "execution_count": 13,
     "metadata": {},
     "output_type": "execute_result"
    },
    {
     "data": {
      "image/png": "[encoded data removed]",
      "text/plain": [
       "<Figure size 432x288 with 1 Axes>"
      ]
     },
     "metadata": {
      "needs_background": "light"
     },
     "output_type": "display_data"
    }
   ],
   "source": [
    "sns.histplot(data=reviews_by_beer,\n",
    "             log_scale=True)"
   ]
  },
  {
   "cell_type": "code",
   "execution_count": 14,
   "metadata": {},
   "outputs": [
    {
     "name": "stdout",
     "output_type": "stream",
     "text": [
      "The record beer have 3290 reviews on BeerAdvocate\n",
      "Mean: 24.019589735826205\n",
      "Median: 2.0\n"
     ]
    }
   ],
   "source": [
    "print(f\"The record beer have {reviews_by_beer.max()} reviews on BeerAdvocate\")\n",
    "print(f\"Mean: {reviews_by_beer.mean()}\")\n",
    "print(f\"Median: {reviews_by_beer.median()}\")"
   ]
  },
  {
   "cell_type": "markdown",
   "metadata": {},
   "source": [
    "**Beer styles (`beer_style`)**\n",
    "\n",
    "To end the exploration part, I would like to check if the similar pattern can be found for reviews by bear style.\n",
    "\n",
    "Again, when looking at the standard axis, the distribution looks skewed, but when placed on the log axis, the data looks more like from a normal distribution. What's also interesting is that 50% of all reviews are added to just the top 18 beer styles (by the number of reviews). It seems that some beer styles are much more popular than others."
   ]
  },
  {
   "cell_type": "code",
   "execution_count": 15,
   "metadata": {},
   "outputs": [],
   "source": [
    "reviews_by_beer_style = df.groupby('beer_style').beer_beerid.count()  # each row represents a separate review\n",
    "reviews_by_beer_style.name = \"Reviews by beer style\"\n",
    "\n",
    "assert reviews_by_beer_style.sum() == df.shape[0]"
   ]
  },
  {
   "cell_type": "code",
   "execution_count": 16,
   "metadata": {},
   "outputs": [
    {
     "data": {
      "text/plain": [
       "<AxesSubplot:title={'center':'Log axis'}, xlabel='Reviews by beer style', ylabel='Count'>"
      ]
     },
     "execution_count": 16,
     "metadata": {},
     "output_type": "execute_result"
    },
    {
     "data": {
      "image/png": "[encoded data removed]",
      "text/plain": [
       "<Figure size 720x360 with 2 Axes>"
      ]
     },
     "metadata": {
      "needs_background": "light"
     },
     "output_type": "display_data"
    }
   ],
   "source": [
    "fig, axes = plt.subplots(1, 2, figsize=(10,5))\n",
    "axes[0].set_title('Standard axis')\n",
    "axes[1].set_title('Log axis')\n",
    "sns.histplot(ax=axes[0],\n",
    "             data=reviews_by_beer_style,\n",
    "             log_scale=False)\n",
    "sns.histplot(ax=axes[1],\n",
    "             data=reviews_by_beer_style,\n",
    "             log_scale=True)"
   ]
  },
  {
   "cell_type": "code",
   "execution_count": 17,
   "metadata": {},
   "outputs": [
    {
     "data": {
      "text/html": [
       "<div>\n",
       "<style scoped>\n",
       "    .dataframe tbody tr th:only-of-type {\n",
       "        vertical-align: middle;\n",
       "    }\n",
       "\n",
       "    .dataframe tbody tr th {\n",
       "        vertical-align: top;\n",
       "    }\n",
       "\n",
       "    .dataframe thead th {\n",
       "        text-align: right;\n",
       "    }\n",
       "</style>\n",
       "<table border=\"1\" class=\"dataframe\">\n",
       "  <thead>\n",
       "    <tr style=\"text-align: right;\">\n",
       "      <th></th>\n",
       "      <th>Reviews by beer style</th>\n",
       "      <th>ratio</th>\n",
       "      <th>cum_ratio</th>\n",
       "    </tr>\n",
       "    <tr>\n",
       "      <th>beer_style</th>\n",
       "      <th></th>\n",
       "      <th></th>\n",
       "      <th></th>\n",
       "    </tr>\n",
       "  </thead>\n",
       "  <tbody>\n",
       "    <tr>\n",
       "      <th>American IPA</th>\n",
       "      <td>117586</td>\n",
       "      <td>0.074111</td>\n",
       "      <td>0.074111</td>\n",
       "    </tr>\n",
       "    <tr>\n",
       "      <th>American Double / Imperial IPA</th>\n",
       "      <td>85977</td>\n",
       "      <td>0.054189</td>\n",
       "      <td>0.128300</td>\n",
       "    </tr>\n",
       "    <tr>\n",
       "      <th>American Pale Ale (APA)</th>\n",
       "      <td>63469</td>\n",
       "      <td>0.040003</td>\n",
       "      <td>0.168303</td>\n",
       "    </tr>\n",
       "    <tr>\n",
       "      <th>Russian Imperial Stout</th>\n",
       "      <td>54129</td>\n",
       "      <td>0.034116</td>\n",
       "      <td>0.202419</td>\n",
       "    </tr>\n",
       "    <tr>\n",
       "      <th>American Double / Imperial Stout</th>\n",
       "      <td>50705</td>\n",
       "      <td>0.031958</td>\n",
       "      <td>0.234377</td>\n",
       "    </tr>\n",
       "    <tr>\n",
       "      <th>American Porter</th>\n",
       "      <td>50477</td>\n",
       "      <td>0.031814</td>\n",
       "      <td>0.266191</td>\n",
       "    </tr>\n",
       "    <tr>\n",
       "      <th>American Amber / Red Ale</th>\n",
       "      <td>45751</td>\n",
       "      <td>0.028836</td>\n",
       "      <td>0.295027</td>\n",
       "    </tr>\n",
       "    <tr>\n",
       "      <th>Belgian Strong Dark Ale</th>\n",
       "      <td>37743</td>\n",
       "      <td>0.023788</td>\n",
       "      <td>0.318815</td>\n",
       "    </tr>\n",
       "    <tr>\n",
       "      <th>Fruit / Vegetable Beer</th>\n",
       "      <td>33861</td>\n",
       "      <td>0.021342</td>\n",
       "      <td>0.340157</td>\n",
       "    </tr>\n",
       "    <tr>\n",
       "      <th>American Strong Ale</th>\n",
       "      <td>31945</td>\n",
       "      <td>0.020134</td>\n",
       "      <td>0.360291</td>\n",
       "    </tr>\n",
       "    <tr>\n",
       "      <th>Belgian Strong Pale Ale</th>\n",
       "      <td>31490</td>\n",
       "      <td>0.019847</td>\n",
       "      <td>0.380138</td>\n",
       "    </tr>\n",
       "    <tr>\n",
       "      <th>Saison / Farmhouse Ale</th>\n",
       "      <td>31480</td>\n",
       "      <td>0.019841</td>\n",
       "      <td>0.399979</td>\n",
       "    </tr>\n",
       "    <tr>\n",
       "      <th>American Adjunct Lager</th>\n",
       "      <td>30749</td>\n",
       "      <td>0.019380</td>\n",
       "      <td>0.419360</td>\n",
       "    </tr>\n",
       "    <tr>\n",
       "      <th>Tripel</th>\n",
       "      <td>30328</td>\n",
       "      <td>0.019115</td>\n",
       "      <td>0.438475</td>\n",
       "    </tr>\n",
       "    <tr>\n",
       "      <th>Witbier</th>\n",
       "      <td>30140</td>\n",
       "      <td>0.018996</td>\n",
       "      <td>0.457471</td>\n",
       "    </tr>\n",
       "    <tr>\n",
       "      <th>Hefeweizen</th>\n",
       "      <td>27908</td>\n",
       "      <td>0.017590</td>\n",
       "      <td>0.475061</td>\n",
       "    </tr>\n",
       "    <tr>\n",
       "      <th>American Barleywine</th>\n",
       "      <td>26728</td>\n",
       "      <td>0.016846</td>\n",
       "      <td>0.491907</td>\n",
       "    </tr>\n",
       "    <tr>\n",
       "      <th>American Brown Ale</th>\n",
       "      <td>25297</td>\n",
       "      <td>0.015944</td>\n",
       "      <td>0.507851</td>\n",
       "    </tr>\n",
       "    <tr>\n",
       "      <th>American Stout</th>\n",
       "      <td>24538</td>\n",
       "      <td>0.015466</td>\n",
       "      <td>0.523316</td>\n",
       "    </tr>\n",
       "    <tr>\n",
       "      <th>American Pale Wheat Ale</th>\n",
       "      <td>24204</td>\n",
       "      <td>0.015255</td>\n",
       "      <td>0.538571</td>\n",
       "    </tr>\n",
       "  </tbody>\n",
       "</table>\n",
       "</div>"
      ],
      "text/plain": [
       "                                  Reviews by beer style     ratio  cum_ratio\n",
       "beer_style                                                                  \n",
       "American IPA                                     117586  0.074111   0.074111\n",
       "American Double / Imperial IPA                    85977  0.054189   0.128300\n",
       "American Pale Ale (APA)                           63469  0.040003   0.168303\n",
       "Russian Imperial Stout                            54129  0.034116   0.202419\n",
       "American Double / Imperial Stout                  50705  0.031958   0.234377\n",
       "American Porter                                   50477  0.031814   0.266191\n",
       "American Amber / Red Ale                          45751  0.028836   0.295027\n",
       "Belgian Strong Dark Ale                           37743  0.023788   0.318815\n",
       "Fruit / Vegetable Beer                            33861  0.021342   0.340157\n",
       "American Strong Ale                               31945  0.020134   0.360291\n",
       "Belgian Strong Pale Ale                           31490  0.019847   0.380138\n",
       "Saison / Farmhouse Ale                            31480  0.019841   0.399979\n",
       "American Adjunct Lager                            30749  0.019380   0.419360\n",
       "Tripel                                            30328  0.019115   0.438475\n",
       "Witbier                                           30140  0.018996   0.457471\n",
       "Hefeweizen                                        27908  0.017590   0.475061\n",
       "American Barleywine                               26728  0.016846   0.491907\n",
       "American Brown Ale                                25297  0.015944   0.507851\n",
       "American Stout                                    24538  0.015466   0.523316\n",
       "American Pale Wheat Ale                           24204  0.015255   0.538571"
      ]
     },
     "execution_count": 17,
     "metadata": {},
     "output_type": "execute_result"
    }
   ],
   "source": [
    "reviews_by_beer_style_df = reviews_by_beer_style.sort_values(ascending=False).to_frame()\n",
    "reviews_by_beer_style_df['ratio'] = reviews_by_beer_style_df[\"Reviews by beer style\"] / df.shape[0]\n",
    "reviews_by_beer_style_df['cum_ratio'] = reviews_by_beer_style_df['ratio'].cumsum()\n",
    "reviews_by_beer_style_df.head(20)"
   ]
  },
  {
   "cell_type": "markdown",
   "metadata": {},
   "source": [
    "## Q1: Which brewery produces the strongest beers by abv ?"
   ]
  },
  {
   "cell_type": "markdown",
   "metadata": {},
   "source": [
    "There is no simple answer to this question because it depends on what we mean by brewery producing strongest beers. To answer this question, I'll try to touch upon the following points:\n",
    "- Which brewery produces the strongest beer?\n",
    "- Which brewery produces the strongest beers based on some kind of average (mean and median)?\n",
    "\n",
    "The reason I want to include the single strongest beer is that if someone is looking for the strongest beer, all they really care about is just the strongest beer and not beers produced by the \"strongest on average\" brewery."
   ]
  },
  {
   "cell_type": "code",
   "execution_count": 18,
   "metadata": {},
   "outputs": [
    {
     "name": "stderr",
     "output_type": "stream",
     "text": [
      "/home/andrzej/anaconda3/envs/dev/lib/python3.8/site-packages/pandas/core/generic.py:5168: SettingWithCopyWarning: \n",
      "A value is trying to be set on a copy of a slice from a DataFrame.\n",
      "Try using .loc[row_indexer,col_indexer] = value instead\n",
      "\n",
      "See the caveats in the documentation: https://pandas.pydata.org/pandas-docs/stable/user_guide/indexing.html#returning-a-view-versus-a-copy\n",
      "  self[name] = value\n"
     ]
    }
   ],
   "source": [
    "def prepare_data_q1(df):\n",
    "    # Remove reviews for beers without abv data\n",
    "    df = df.loc[df['beer_abv'].notnull()]\n",
    "    \n",
    "    # Replace nulls in brewery_name with empty string not to lose any data\n",
    "    df.brewery_name = df.brewery_name.fillna('')\n",
    "\n",
    "    \n",
    "    return df\n",
    "\n",
    "assert prepare_data_q1(df).shape[0] < df.shape[0]"
   ]
  },
  {
   "cell_type": "code",
   "execution_count": 19,
   "metadata": {},
   "outputs": [],
   "source": [
    "df_q1 = prepare_data_q1(df)"
   ]
  },
  {
   "cell_type": "markdown",
   "metadata": {},
   "source": [
    "**Breweries producing the strongest beers**\n",
    "\n",
    "The strongest beer rated on BeerAdvocate has been brewed by Schorschbräu (by a far margin). Actually, this brewery appears twice in the TOP 5 of the strongest beers, so it seems reasonable to claim the it produces the strongest beers. However, I will explore one more way of answering this question."
   ]
  },
  {
   "cell_type": "code",
   "execution_count": 20,
   "metadata": {},
   "outputs": [
    {
     "data": {
      "text/plain": [
       "beer_beerid  beer_name                      brewery_id  brewery_name                            \n",
       "73368        Schorschbräu Schorschbock 57%  6513        Schorschbräu                                57.70\n",
       "57856        Schorschbräu Schorschbock 43%  6513        Schorschbräu                                43.00\n",
       "57015        Sink The Bismarck!             16315       BrewDog                                     41.00\n",
       "55712        Schorschbräu Schorschbock 40%  6513        Schorschbräu                                39.44\n",
       "70633        Black Damnation VI - Messy     15237       De Struise Brouwers                         39.00\n",
       "                                                                                                    ...  \n",
       "26396        Xan Wellness                   252         Bayerische Staatsbrauerei Weihenstephan      0.05\n",
       "5872         Bavaria Malt                   498         Bavaria Brouwerij N.V.                       0.05\n",
       "11198        Genesee NA                     302         Genesee Brewing Co. / Dundee Brewing Co.     0.05\n",
       "48553        Lindemans Chello               187         Brouwerij Lindemans                          0.01\n",
       "20210        Liber                          2444        Companhia Cervejaria Brahma                  0.01\n",
       "Name: beer_abv, Length: 49012, dtype: float64"
      ]
     },
     "execution_count": 20,
     "metadata": {},
     "output_type": "execute_result"
    }
   ],
   "source": [
    "df_q1.groupby(['beer_beerid', 'beer_name', 'brewery_id', 'brewery_name']).beer_abv.max().sort_values(ascending=False)"
   ]
  },
  {
   "cell_type": "markdown",
   "metadata": {},
   "source": [
    "**Breweries producing the strongest beers on average**\n",
    "\n",
    "By looking at the arithmetic mean, Schorschbräu is still the leader. However, when looking at the median, the leadership has changed and now Shoes Brewery is the leader. This might be due to the fact that Schorschbräu is producing a few very strong beers but also quite a few \"standard\" beers and that's its mean is biased upwards compared to its mean.\n"
   ]
  },
  {
   "cell_type": "markdown",
   "metadata": {},
   "source": [
    "*Average = Mean*"
   ]
  },
  {
   "cell_type": "code",
   "execution_count": 21,
   "metadata": {},
   "outputs": [
    {
     "data": {
      "text/plain": [
       "brewery_id  brewery_name                       \n",
       "6513        Schorschbräu                           19.228824\n",
       "14060       Shoes Brewery                          15.200000\n",
       "2873        Rome Brewing Company                   13.840000\n",
       "736         Hurlimann Brewery                      13.750000\n",
       "10038       Alt-Oberurseler Brauhaus               13.200000\n",
       "                                                     ...    \n",
       "2349        Cerveceria Vegana, S.A.                 2.260870\n",
       "23305       Moskovskaya Pivovarennaya Kompaniya     2.150000\n",
       "19144       Fentimans Ltd.                          1.375000\n",
       "24676       Borodino ZAO                            0.966667\n",
       "16991       All Stars Bakery                        0.500000\n",
       "Name: beer_abv, Length: 5232, dtype: float64"
      ]
     },
     "execution_count": 21,
     "metadata": {},
     "output_type": "execute_result"
    }
   ],
   "source": [
    "df_q1.groupby(['brewery_id', 'brewery_name']).beer_abv.mean().sort_values(ascending=False)"
   ]
  },
  {
   "cell_type": "markdown",
   "metadata": {},
   "source": [
    "*Average = Median*"
   ]
  },
  {
   "cell_type": "code",
   "execution_count": 22,
   "metadata": {},
   "outputs": [
    {
     "data": {
      "text/plain": [
       "brewery_id  brewery_name              \n",
       "14060       Shoes Brewery                 15.2\n",
       "1614        River City Brewing Company    14.0\n",
       "736         Hurlimann Brewery             14.0\n",
       "285         Brauerei Schloss Eggenberg    14.0\n",
       "2097        Kuhnhenn Brewing Company      13.5\n",
       "                                          ... \n",
       "24676       Borodino ZAO                   1.2\n",
       "2349        Cerveceria Vegana, S.A.        0.5\n",
       "19144       Fentimans Ltd.                 0.5\n",
       "16991       All Stars Bakery               0.5\n",
       "10526       Israel Beer Breweries Ltd.     0.5\n",
       "Name: beer_abv, Length: 5232, dtype: float64"
      ]
     },
     "execution_count": 22,
     "metadata": {},
     "output_type": "execute_result"
    }
   ],
   "source": [
    "df_q1.groupby(['brewery_id', 'brewery_name']).beer_abv.median().sort_values(ascending=False)"
   ]
  },
  {
   "cell_type": "markdown",
   "metadata": {},
   "source": [
    "**Conclusion**\n",
    "\n",
    "There is no simple answer, but the safe assumption would be to point Schorschbräu as the brewery producing the strongest beers. However, much more can be done, depending on the what we are interested the most, for example we can:\n",
    "- calculate the weighted average of beer_abv, weighted by the number of reviews which can serve as a proxy for beer popularity (after all, we don't want to give the same weight to the almost unknown beer as to the very popular beer from the same brewery which is available all over the country and got many reviews)\n",
    "- give more weight to stronger beers and decrease the importance of \"standard\" beers \n",
    "- focus on just the part of the distribution for each brewery (e.g. compare beers from just the top 10th or 25th percentile for each brewery)"
   ]
  },
  {
   "cell_type": "markdown",
   "metadata": {},
   "source": [
    "## Q2: If you had to pick 3 beers to recommend to someone, how would you approach the problem?"
   ]
  },
  {
   "cell_type": "code",
   "execution_count": 23,
   "metadata": {},
   "outputs": [],
   "source": [
    "def prepare_data_for_q2(df):\n",
    "    # Exclude data with nulls in review_profilename\n",
    "    df = df.loc[df['review_profilename'].notnull()]\n",
    "    \n",
    "    # Leave only columns that we need\n",
    "    columns = [\n",
    "        \"review_profilename\",  # reviewer\n",
    "        \"beer_beerid\",  # beer\n",
    "        \"beer_style\",   # beer style\n",
    "        \"beer_name\",    # beer name for decoding predictions\n",
    "        \"review_overall\",  # rating\n",
    "        \"review_time\",  # timestamp\n",
    "    ]\n",
    "    \n",
    "    return df[columns]\n",
    "\n",
    "assert len(df) - len(prepare_data_for_q2(df)) == 348  # There are 348 nulls in this column in our dataframe"
   ]
  },
  {
   "cell_type": "code",
   "execution_count": 24,
   "metadata": {},
   "outputs": [],
   "source": [
    "df_q2 = prepare_data_for_q2(df)"
   ]
  },
  {
   "cell_type": "markdown",
   "metadata": {},
   "source": [
    "This sounds like a recommendation problem and is best served with a recommender system.\n",
    "\n",
    "However, first I would like to split this questions into two parts:\n",
    "- recommending beer to someone I don't know anything about (their preferences about beers, in particular)\n",
    "- recommending beer to someone I know what they like (e.g. based on the reviews they have already posted on BeerAdvocate)\n",
    "\n",
    "**Case 1**\n",
    "\n",
    "If the first point is the case, we need to make a guess as we don't know what that person likes. However, we can make a bit more informed guess by taking into account the reviews data we have in our disposal. Therefore, I would like to propose a simple recommender system in that case which would recommend the top rated beers.\n",
    "\n",
    "However, to overcome the problem of recommeding a pure 5-star beer having just 1 review, I would like to normalize the review scores first in the following way:\n",
    "- divide overall review scores by 5 to make sure they lie in [0, 1] range\n",
    "- assume the prior beta distribution with prior alpha of 3 and prior beta of 2\n",
    "- include the overall review score (after diving by 5) and the number of reviews to calculate the posterior distribution value\n",
    "- multiply the result by 5 to revert back to the original scale. However, the high scores with few reviews will be pushed down as there is quite a bit of uncertainty connected with them, whereas scores with many reviews will be left relatively untouched."
   ]
  },
  {
   "cell_type": "code",
   "execution_count": 25,
   "metadata": {},
   "outputs": [
    {
     "data": {
      "text/html": [
       "<div>\n",
       "<style scoped>\n",
       "    .dataframe tbody tr th:only-of-type {\n",
       "        vertical-align: middle;\n",
       "    }\n",
       "\n",
       "    .dataframe tbody tr th {\n",
       "        vertical-align: top;\n",
       "    }\n",
       "\n",
       "    .dataframe thead th {\n",
       "        text-align: right;\n",
       "    }\n",
       "</style>\n",
       "<table border=\"1\" class=\"dataframe\">\n",
       "  <thead>\n",
       "    <tr style=\"text-align: right;\">\n",
       "      <th></th>\n",
       "      <th></th>\n",
       "      <th>average_review_overall</th>\n",
       "      <th>count_of_reviews</th>\n",
       "    </tr>\n",
       "    <tr>\n",
       "      <th>beer_beerid</th>\n",
       "      <th>beer_name</th>\n",
       "      <th></th>\n",
       "      <th></th>\n",
       "    </tr>\n",
       "  </thead>\n",
       "  <tbody>\n",
       "    <tr>\n",
       "      <th>45046</th>\n",
       "      <th>Oak Aged IPA</th>\n",
       "      <td>5.0</td>\n",
       "      <td>1</td>\n",
       "    </tr>\n",
       "    <tr>\n",
       "      <th>36467</th>\n",
       "      <th>Midlands Mild \"A Spoonful Weighs A Ton\"</th>\n",
       "      <td>5.0</td>\n",
       "      <td>2</td>\n",
       "    </tr>\n",
       "    <tr>\n",
       "      <th>18688</th>\n",
       "      <th>Traffic Jam Slam Dunkel</th>\n",
       "      <td>5.0</td>\n",
       "      <td>1</td>\n",
       "    </tr>\n",
       "    <tr>\n",
       "      <th>10464</th>\n",
       "      <th>Pots Ale</th>\n",
       "      <td>5.0</td>\n",
       "      <td>1</td>\n",
       "    </tr>\n",
       "    <tr>\n",
       "      <th>66421</th>\n",
       "      <th>Bennie's Brew</th>\n",
       "      <td>5.0</td>\n",
       "      <td>2</td>\n",
       "    </tr>\n",
       "    <tr>\n",
       "      <th>...</th>\n",
       "      <th>...</th>\n",
       "      <td>...</td>\n",
       "      <td>...</td>\n",
       "    </tr>\n",
       "    <tr>\n",
       "      <th>14093</th>\n",
       "      <th>Gold Coast Queensland Bitter</th>\n",
       "      <td>1.0</td>\n",
       "      <td>1</td>\n",
       "    </tr>\n",
       "    <tr>\n",
       "      <th>14096</th>\n",
       "      <th>Sunshine Coast Bitter</th>\n",
       "      <td>1.0</td>\n",
       "      <td>1</td>\n",
       "    </tr>\n",
       "    <tr>\n",
       "      <th>38127</th>\n",
       "      <th>Landskron Pupen-Schultzer Schwarzes</th>\n",
       "      <td>1.0</td>\n",
       "      <td>1</td>\n",
       "    </tr>\n",
       "    <tr>\n",
       "      <th>9119</th>\n",
       "      <th>Mash Chocolate Porter</th>\n",
       "      <td>1.0</td>\n",
       "      <td>1</td>\n",
       "    </tr>\n",
       "    <tr>\n",
       "      <th>57345</th>\n",
       "      <th>He'Brew Bittersweet Lenny's R.I.P.A. - Barrel-Aged</th>\n",
       "      <td>1.0</td>\n",
       "      <td>1</td>\n",
       "    </tr>\n",
       "  </tbody>\n",
       "</table>\n",
       "<p>66051 rows × 2 columns</p>\n",
       "</div>"
      ],
      "text/plain": [
       "                                                                average_review_overall  \\\n",
       "beer_beerid beer_name                                                                    \n",
       "45046       Oak Aged IPA                                                           5.0   \n",
       "36467       Midlands Mild \"A Spoonful Weighs A Ton\"                                5.0   \n",
       "18688       Traffic Jam Slam Dunkel                                                5.0   \n",
       "10464       Pots Ale                                                               5.0   \n",
       "66421       Bennie's Brew                                                          5.0   \n",
       "...                                                                                ...   \n",
       "14093       Gold Coast Queensland Bitter                                           1.0   \n",
       "14096       Sunshine Coast Bitter                                                  1.0   \n",
       "38127       Landskron Pupen-Schultzer Schwarzes                                    1.0   \n",
       "9119        Mash Chocolate Porter                                                  1.0   \n",
       "57345       He'Brew Bittersweet Lenny's R.I.P.A. - Barrel-Aged                     1.0   \n",
       "\n",
       "                                                                count_of_reviews  \n",
       "beer_beerid beer_name                                                             \n",
       "45046       Oak Aged IPA                                                       1  \n",
       "36467       Midlands Mild \"A Spoonful Weighs A Ton\"                            2  \n",
       "18688       Traffic Jam Slam Dunkel                                            1  \n",
       "10464       Pots Ale                                                           1  \n",
       "66421       Bennie's Brew                                                      2  \n",
       "...                                                                          ...  \n",
       "14093       Gold Coast Queensland Bitter                                       1  \n",
       "14096       Sunshine Coast Bitter                                              1  \n",
       "38127       Landskron Pupen-Schultzer Schwarzes                                1  \n",
       "9119        Mash Chocolate Porter                                              1  \n",
       "57345       He'Brew Bittersweet Lenny's R.I.P.A. - Barrel-Aged                 1  \n",
       "\n",
       "[66051 rows x 2 columns]"
      ]
     },
     "execution_count": 25,
     "metadata": {},
     "output_type": "execute_result"
    }
   ],
   "source": [
    "beer_review_scores = df_q2.groupby(['beer_beerid', 'beer_name']).review_overall.mean()\n",
    "beer_review_scores.name = 'average_review_overall'\n",
    "beer_review_count = df_q2.groupby(['beer_beerid', 'beer_name']).beer_beerid.count()\n",
    "beer_review_count.name = 'count_of_reviews'\n",
    "beer_reviews = pd.concat([beer_review_scores, beer_review_count], axis=1)\n",
    "beer_reviews.sort_values(by=['average_review_overall'], ascending=False)  # Before normalization"
   ]
  },
  {
   "cell_type": "code",
   "execution_count": 26,
   "metadata": {},
   "outputs": [
    {
     "data": {
      "text/html": [
       "<div>\n",
       "<style scoped>\n",
       "    .dataframe tbody tr th:only-of-type {\n",
       "        vertical-align: middle;\n",
       "    }\n",
       "\n",
       "    .dataframe tbody tr th {\n",
       "        vertical-align: top;\n",
       "    }\n",
       "\n",
       "    .dataframe thead th {\n",
       "        text-align: right;\n",
       "    }\n",
       "</style>\n",
       "<table border=\"1\" class=\"dataframe\">\n",
       "  <thead>\n",
       "    <tr style=\"text-align: right;\">\n",
       "      <th></th>\n",
       "      <th></th>\n",
       "      <th>average_review_overall</th>\n",
       "      <th>count_of_reviews</th>\n",
       "      <th>normalized_review</th>\n",
       "    </tr>\n",
       "    <tr>\n",
       "      <th>beer_beerid</th>\n",
       "      <th>beer_name</th>\n",
       "      <th></th>\n",
       "      <th></th>\n",
       "      <th></th>\n",
       "    </tr>\n",
       "  </thead>\n",
       "  <tbody>\n",
       "    <tr>\n",
       "      <th>44910</th>\n",
       "      <th>Dirty Horse</th>\n",
       "      <td>4.820513</td>\n",
       "      <td>39</td>\n",
       "      <td>4.613636</td>\n",
       "    </tr>\n",
       "    <tr>\n",
       "      <th>1545</th>\n",
       "      <th>Trappist Westvleteren 12</th>\n",
       "      <td>4.617925</td>\n",
       "      <td>1272</td>\n",
       "      <td>4.611590</td>\n",
       "    </tr>\n",
       "    <tr>\n",
       "      <th>16814</th>\n",
       "      <th>Heady Topper</th>\n",
       "      <td>4.625800</td>\n",
       "      <td>469</td>\n",
       "      <td>4.608650</td>\n",
       "    </tr>\n",
       "    <tr>\n",
       "      <th>68548</th>\n",
       "      <th>Armand'4 Oude Geuze Lente (Spring)</th>\n",
       "      <td>4.730769</td>\n",
       "      <td>65</td>\n",
       "      <td>4.607143</td>\n",
       "    </tr>\n",
       "    <tr>\n",
       "      <th>63649</th>\n",
       "      <th>Rare D.O.S.</th>\n",
       "      <td>4.848485</td>\n",
       "      <td>33</td>\n",
       "      <td>4.605263</td>\n",
       "    </tr>\n",
       "    <tr>\n",
       "      <th>...</th>\n",
       "      <th>...</th>\n",
       "      <td>...</td>\n",
       "      <td>...</td>\n",
       "      <td>...</td>\n",
       "    </tr>\n",
       "    <tr>\n",
       "      <th>43360</th>\n",
       "      <th>Raspberry Ale</th>\n",
       "      <td>1.233333</td>\n",
       "      <td>15</td>\n",
       "      <td>1.675000</td>\n",
       "    </tr>\n",
       "    <tr>\n",
       "      <th>32690</th>\n",
       "      <th>Pit Bull</th>\n",
       "      <td>1.153846</td>\n",
       "      <td>13</td>\n",
       "      <td>1.666667</td>\n",
       "    </tr>\n",
       "    <tr>\n",
       "      <th>2373</th>\n",
       "      <th>Dixie White Moose</th>\n",
       "      <td>1.250000</td>\n",
       "      <td>16</td>\n",
       "      <td>1.666667</td>\n",
       "    </tr>\n",
       "    <tr>\n",
       "      <th>20705</th>\n",
       "      <th>Evil Eye</th>\n",
       "      <td>1.471154</td>\n",
       "      <td>52</td>\n",
       "      <td>1.605263</td>\n",
       "    </tr>\n",
       "    <tr>\n",
       "      <th>2213</th>\n",
       "      <th>Crazy Ed's Cave Creek Chili Beer</th>\n",
       "      <td>1.488764</td>\n",
       "      <td>267</td>\n",
       "      <td>1.516544</td>\n",
       "    </tr>\n",
       "  </tbody>\n",
       "</table>\n",
       "<p>66051 rows × 3 columns</p>\n",
       "</div>"
      ],
      "text/plain": [
       "                                                average_review_overall  \\\n",
       "beer_beerid beer_name                                                    \n",
       "44910       Dirty Horse                                       4.820513   \n",
       "1545        Trappist Westvleteren 12                          4.617925   \n",
       "16814       Heady Topper                                      4.625800   \n",
       "68548       Armand'4 Oude Geuze Lente (Spring)                4.730769   \n",
       "63649       Rare D.O.S.                                       4.848485   \n",
       "...                                                                ...   \n",
       "43360       Raspberry Ale                                     1.233333   \n",
       "32690       Pit Bull                                          1.153846   \n",
       "2373        Dixie White Moose                                 1.250000   \n",
       "20705       Evil Eye                                          1.471154   \n",
       "2213        Crazy Ed's Cave Creek Chili Beer                  1.488764   \n",
       "\n",
       "                                                count_of_reviews  \\\n",
       "beer_beerid beer_name                                              \n",
       "44910       Dirty Horse                                       39   \n",
       "1545        Trappist Westvleteren 12                        1272   \n",
       "16814       Heady Topper                                     469   \n",
       "68548       Armand'4 Oude Geuze Lente (Spring)                65   \n",
       "63649       Rare D.O.S.                                       33   \n",
       "...                                                          ...   \n",
       "43360       Raspberry Ale                                     15   \n",
       "32690       Pit Bull                                          13   \n",
       "2373        Dixie White Moose                                 16   \n",
       "20705       Evil Eye                                          52   \n",
       "2213        Crazy Ed's Cave Creek Chili Beer                 267   \n",
       "\n",
       "                                                normalized_review  \n",
       "beer_beerid beer_name                                              \n",
       "44910       Dirty Horse                                  4.613636  \n",
       "1545        Trappist Westvleteren 12                     4.611590  \n",
       "16814       Heady Topper                                 4.608650  \n",
       "68548       Armand'4 Oude Geuze Lente (Spring)           4.607143  \n",
       "63649       Rare D.O.S.                                  4.605263  \n",
       "...                                                           ...  \n",
       "43360       Raspberry Ale                                1.675000  \n",
       "32690       Pit Bull                                     1.666667  \n",
       "2373        Dixie White Moose                            1.666667  \n",
       "20705       Evil Eye                                     1.605263  \n",
       "2213        Crazy Ed's Cave Creek Chili Beer             1.516544  \n",
       "\n",
       "[66051 rows x 3 columns]"
      ]
     },
     "execution_count": 26,
     "metadata": {},
     "output_type": "execute_result"
    }
   ],
   "source": [
    "alpha = 3\n",
    "beta = 2\n",
    "divider = 5\n",
    "\n",
    "beer_reviews['normalized_review'] = (alpha + \\\n",
    "                                   beer_reviews.count_of_reviews * (beer_reviews.average_review_overall / divider)) \\\n",
    "                                  / (alpha + beta + beer_reviews.count_of_reviews) * divider\n",
    "\n",
    "beer_reviews = beer_reviews.sort_values(by=['normalized_review'], ascending=False)\n",
    "beer_reviews"
   ]
  },
  {
   "cell_type": "markdown",
   "metadata": {},
   "source": [
    "**Conclusion - Case 1**\n",
    "\n",
    "The three beers I would recommend to someone I don't know anything about based on the above methodology would be:\n",
    "- Dirty Horse\n",
    "- Trappist Westvleteren 12\n",
    "- Heady Topper"
   ]
  },
  {
   "cell_type": "code",
   "execution_count": 27,
   "metadata": {},
   "outputs": [
    {
     "data": {
      "text/html": [
       "<div>\n",
       "<style scoped>\n",
       "    .dataframe tbody tr th:only-of-type {\n",
       "        vertical-align: middle;\n",
       "    }\n",
       "\n",
       "    .dataframe tbody tr th {\n",
       "        vertical-align: top;\n",
       "    }\n",
       "\n",
       "    .dataframe thead th {\n",
       "        text-align: right;\n",
       "    }\n",
       "</style>\n",
       "<table border=\"1\" class=\"dataframe\">\n",
       "  <thead>\n",
       "    <tr style=\"text-align: right;\">\n",
       "      <th></th>\n",
       "      <th></th>\n",
       "      <th>average_review_overall</th>\n",
       "      <th>count_of_reviews</th>\n",
       "      <th>normalized_review</th>\n",
       "    </tr>\n",
       "    <tr>\n",
       "      <th>beer_beerid</th>\n",
       "      <th>beer_name</th>\n",
       "      <th></th>\n",
       "      <th></th>\n",
       "      <th></th>\n",
       "    </tr>\n",
       "  </thead>\n",
       "  <tbody>\n",
       "    <tr>\n",
       "      <th>44910</th>\n",
       "      <th>Dirty Horse</th>\n",
       "      <td>4.820513</td>\n",
       "      <td>39</td>\n",
       "      <td>4.613636</td>\n",
       "    </tr>\n",
       "    <tr>\n",
       "      <th>1545</th>\n",
       "      <th>Trappist Westvleteren 12</th>\n",
       "      <td>4.617925</td>\n",
       "      <td>1272</td>\n",
       "      <td>4.611590</td>\n",
       "    </tr>\n",
       "    <tr>\n",
       "      <th>16814</th>\n",
       "      <th>Heady Topper</th>\n",
       "      <td>4.625800</td>\n",
       "      <td>469</td>\n",
       "      <td>4.608650</td>\n",
       "    </tr>\n",
       "  </tbody>\n",
       "</table>\n",
       "</div>"
      ],
      "text/plain": [
       "                                      average_review_overall  \\\n",
       "beer_beerid beer_name                                          \n",
       "44910       Dirty Horse                             4.820513   \n",
       "1545        Trappist Westvleteren 12                4.617925   \n",
       "16814       Heady Topper                            4.625800   \n",
       "\n",
       "                                      count_of_reviews  normalized_review  \n",
       "beer_beerid beer_name                                                      \n",
       "44910       Dirty Horse                             39           4.613636  \n",
       "1545        Trappist Westvleteren 12              1272           4.611590  \n",
       "16814       Heady Topper                           469           4.608650  "
      ]
     },
     "execution_count": 27,
     "metadata": {},
     "output_type": "execute_result"
    }
   ],
   "source": [
    "beer_reviews.head(3)"
   ]
  },
  {
   "cell_type": "markdown",
   "metadata": {},
   "source": [
    "**Case 2**"
   ]
  },
  {
   "cell_type": "markdown",
   "metadata": {},
   "source": [
    "If we have some information about a given person's preferences, we can make our recommendation better by using this information to make the predictions.\n",
    "\n",
    "In this section I would like to propose a model which would use the information from almost all the reviews (excluding only those without the user data) in our dataset to make recommendations to the user about new beers to try based on the previous history of reviews.\n",
    "\n",
    "I would like to use the approach based on Singular Value Decomposition (SVD) popularized by Simon Funk (a relatively simple, yet very powerful methodology). This is the type of Matrix Factorization which is a very popular technique used in recommender systems.\n",
    "\n",
    "During the task, I based on the implementation of Funk's SVD as proposed by Kim Falk: https://github.com/practical-recommender-systems/moviegeek/blob/master/builder/matrix_factorization_calculator.py. However, compared with his implementation, I made the following updates to the MatrixFactorization class:\n",
    "- merged the training class with the recommender class\n",
    "- added validation data during training (account for approx. 12% of the full dataset)\n",
    "- set up a \"naive\" early stopping based on the validation RMSE\n",
    "- made a few other minor updates so that the class fits our dataset\n",
    "\n",
    "The idea of SVD is to identify hidden features of the ratinigs data that would be used for making predictions and that would otherwise go unnoticed. Also, in this implementation there are included two bias factors:\n",
    "- user bias (that every reviewer has a different taste and a different notion of what is very good and what is just OK)\n",
    "- item bias (that every beer is different and some are better than others)"
   ]
  },
  {
   "cell_type": "code",
   "execution_count": 28,
   "metadata": {},
   "outputs": [
    {
     "name": "stdout",
     "output_type": "stream",
     "text": [
      "user_factors are (33387, 20)\n",
      "training matrix factorization at 2021-05-27 17:46:18.611235\n",
      "159305\n",
      "1426961\n",
      "epoch in 0:00:41.532637, f=0, i=1 err=0.6445853552502081 valid_err=0.7031334016144174\n",
      "epoch in 0:00:38.112143, f=0, i=2 err=0.6351882785163423 valid_err=0.6965097489899954\n",
      "epoch in 0:00:35.953030, f=0, i=3 err=0.6301227826366722 valid_err=0.6934777824833154\n",
      "epoch in 0:00:37.410083, f=0, i=4 err=0.6266582949841039 valid_err=0.6916604169371098\n",
      "epoch in 0:00:37.836664, f=0, i=5 err=0.6239923260348548 valid_err=0.6904391137492298\n"
     ]
    },
    {
     "ename": "KeyboardInterrupt",
     "evalue": "",
     "output_type": "error",
     "traceback": [
      "\u001b[0;31m---------------------------------------------------------------------------\u001b[0m",
      "\u001b[0;31mKeyboardInterrupt\u001b[0m                         Traceback (most recent call last)",
      "\u001b[0;32m<ipython-input-28-3270d4361f68>\u001b[0m in \u001b[0;36m<module>\u001b[0;34m\u001b[0m\n\u001b[1;32m      8\u001b[0m \u001b[0;34m\u001b[0m\u001b[0m\n\u001b[1;32m      9\u001b[0m \u001b[0;31m# Train the model using k=20 features\u001b[0m\u001b[0;34m\u001b[0m\u001b[0;34m\u001b[0m\u001b[0;34m\u001b[0m\u001b[0m\n\u001b[0;32m---> 10\u001b[0;31m \u001b[0mMF\u001b[0m\u001b[0;34m.\u001b[0m\u001b[0mtrain\u001b[0m\u001b[0;34m(\u001b[0m\u001b[0mloaded_ratings\u001b[0m\u001b[0;34m,\u001b[0m \u001b[0mk\u001b[0m\u001b[0;34m=\u001b[0m\u001b[0;36m20\u001b[0m\u001b[0;34m)\u001b[0m\u001b[0;34m\u001b[0m\u001b[0;34m\u001b[0m\u001b[0m\n\u001b[0m",
      "\u001b[0;32m~/Projects/beeradvocate/matrix_factorization.py\u001b[0m in \u001b[0;36mtrain\u001b[0;34m(self, ratings_df, k)\u001b[0m\n\u001b[1;32m    148\u001b[0m             \u001b[0;32mwhile\u001b[0m \u001b[0;32mnot\u001b[0m \u001b[0mfinished\u001b[0m\u001b[0;34m:\u001b[0m\u001b[0;34m\u001b[0m\u001b[0;34m\u001b[0m\u001b[0m\n\u001b[1;32m    149\u001b[0m                 \u001b[0mstart_time\u001b[0m \u001b[0;34m=\u001b[0m \u001b[0mdatetime\u001b[0m\u001b[0;34m.\u001b[0m\u001b[0mnow\u001b[0m\u001b[0;34m(\u001b[0m\u001b[0;34m)\u001b[0m\u001b[0;34m\u001b[0m\u001b[0;34m\u001b[0m\u001b[0m\n\u001b[0;32m--> 150\u001b[0;31m                 iteration_err = self.stocastic_gradient_descent(factor,\n\u001b[0m\u001b[1;32m    151\u001b[0m                                                               \u001b[0mindex_randomized\u001b[0m\u001b[0;34m,\u001b[0m\u001b[0;34m\u001b[0m\u001b[0;34m\u001b[0m\u001b[0m\n\u001b[1;32m    152\u001b[0m                                                               ratings)\n",
      "\u001b[0;32m~/Projects/beeradvocate/matrix_factorization.py\u001b[0m in \u001b[0;36mstocastic_gradient_descent\u001b[0;34m(self, factor, index_randomized, ratings)\u001b[0m\n\u001b[1;32m    181\u001b[0m         \u001b[0mbias_r\u001b[0m \u001b[0;34m=\u001b[0m \u001b[0mself\u001b[0m\u001b[0;34m.\u001b[0m\u001b[0mBiasReg\u001b[0m\u001b[0;34m\u001b[0m\u001b[0;34m\u001b[0m\u001b[0m\n\u001b[1;32m    182\u001b[0m \u001b[0;34m\u001b[0m\u001b[0m\n\u001b[0;32m--> 183\u001b[0;31m         \u001b[0;32mfor\u001b[0m \u001b[0minx\u001b[0m \u001b[0;32min\u001b[0m \u001b[0mindex_randomized\u001b[0m\u001b[0;34m:\u001b[0m\u001b[0;34m\u001b[0m\u001b[0;34m\u001b[0m\u001b[0m\n\u001b[0m\u001b[1;32m    184\u001b[0m             \u001b[0mrating_row\u001b[0m \u001b[0;34m=\u001b[0m \u001b[0mratings\u001b[0m\u001b[0;34m[\u001b[0m\u001b[0minx\u001b[0m\u001b[0;34m]\u001b[0m\u001b[0;34m\u001b[0m\u001b[0;34m\u001b[0m\u001b[0m\n\u001b[1;32m    185\u001b[0m \u001b[0;34m\u001b[0m\u001b[0m\n",
      "\u001b[0;31mKeyboardInterrupt\u001b[0m: "
     ]
    }
   ],
   "source": [
    "from matrix_factorization import MatrixFactorization, load_all_ratings\n",
    "\n",
    "# Load review data\n",
    "loaded_ratings = load_all_ratings(prepare_data_for_q2(df), min_ratings=1)\n",
    "\n",
    "# Initialize MatrixFactorization class\n",
    "MF = MatrixFactorization(save_path='./models/funkSVD/{}/'.format(datetime.now()), max_iterations=40)\n",
    "\n",
    "# Train the model using k=20 features\n",
    "MF.train(loaded_ratings, k=20)"
   ]
  },
  {
   "cell_type": "markdown",
   "metadata": {},
   "source": [
    "To recommend the beers for the user based on the learned model, we can use the recommend_items() method on the MatrixFactorization class which:\n",
    "- computes all the predicted review scores a given user would give to beers they haven't tried yet\n",
    "- orders those predictions in descending order and returns the top 3 of them"
   ]
  },
  {
   "cell_type": "code",
   "execution_count": 29,
   "metadata": {},
   "outputs": [
    {
     "data": {
      "text/plain": [
       "[(36316, {'prediction': 4.653715500835311}),\n",
       " (56082, {'prediction': 4.6395148698885045}),\n",
       " (41928, {'prediction': 4.620811368222843})]"
      ]
     },
     "execution_count": 29,
     "metadata": {},
     "output_type": "execute_result"
    }
   ],
   "source": [
    "reviewer = 'inman66'\n",
    "\n",
    "MF.recommend_items(reviewer, loaded_ratings)  # returns beer ids"
   ]
  },
  {
   "cell_type": "markdown",
   "metadata": {},
   "source": [
    "**Remark!**\n",
    "\n",
    "This is by no means the complete model. Due to the time constraint, the training has been running only for a limited amount of time and to explore fully this technique, the following things should be considered:\n",
    "- training the model for longer\n",
    "- optimizing the model's hyperparameters\n",
    "- limiting the number of reviewers to include in the model (to make the user-item matrix less sparse and the training faster)\n",
    "- including temporal effects (that the user's taste may change over time, and that the brewery may change the recipe for a given beer)"
   ]
  },
  {
   "cell_type": "markdown",
   "metadata": {},
   "source": [
    "## Q3: What are the factors that impacts the quality of beer the most ?"
   ]
  },
  {
   "cell_type": "markdown",
   "metadata": {},
   "source": [
    "In our dataset, the reviews are composed of the overall score, plus the following component parts:\n",
    "- appearance\n",
    "- aroma\n",
    "- palate\n",
    "- taste\n",
    "\n",
    "To answer this question, I would like to propose a simple regression model where the overall score (quality) would be the predicted variable and the four component parts being the predictors. After estimation of the model, I would take a look at the feature importance to answer the question of which of those four components are the most important.\n",
    "\n",
    "Before, the linear regression is estimated, all features are standardized so that they have a zero mean and the resulting distribution has unit variance."
   ]
  },
  {
   "cell_type": "code",
   "execution_count": 30,
   "metadata": {},
   "outputs": [
    {
     "data": {
      "text/html": [
       "<div>\n",
       "<style scoped>\n",
       "    .dataframe tbody tr th:only-of-type {\n",
       "        vertical-align: middle;\n",
       "    }\n",
       "\n",
       "    .dataframe tbody tr th {\n",
       "        vertical-align: top;\n",
       "    }\n",
       "\n",
       "    .dataframe thead th {\n",
       "        text-align: right;\n",
       "    }\n",
       "</style>\n",
       "<table border=\"1\" class=\"dataframe\">\n",
       "  <thead>\n",
       "    <tr style=\"text-align: right;\">\n",
       "      <th></th>\n",
       "      <th>review_appearance</th>\n",
       "      <th>review_aroma</th>\n",
       "      <th>review_palate</th>\n",
       "      <th>review_taste</th>\n",
       "      <th>review_overall</th>\n",
       "    </tr>\n",
       "  </thead>\n",
       "  <tbody>\n",
       "    <tr>\n",
       "      <th>0</th>\n",
       "      <td>2.5</td>\n",
       "      <td>2.0</td>\n",
       "      <td>1.5</td>\n",
       "      <td>1.5</td>\n",
       "      <td>1.5</td>\n",
       "    </tr>\n",
       "    <tr>\n",
       "      <th>1</th>\n",
       "      <td>3.0</td>\n",
       "      <td>2.5</td>\n",
       "      <td>3.0</td>\n",
       "      <td>3.0</td>\n",
       "      <td>3.0</td>\n",
       "    </tr>\n",
       "    <tr>\n",
       "      <th>2</th>\n",
       "      <td>3.0</td>\n",
       "      <td>2.5</td>\n",
       "      <td>3.0</td>\n",
       "      <td>3.0</td>\n",
       "      <td>3.0</td>\n",
       "    </tr>\n",
       "    <tr>\n",
       "      <th>3</th>\n",
       "      <td>3.5</td>\n",
       "      <td>3.0</td>\n",
       "      <td>2.5</td>\n",
       "      <td>3.0</td>\n",
       "      <td>3.0</td>\n",
       "    </tr>\n",
       "    <tr>\n",
       "      <th>4</th>\n",
       "      <td>4.0</td>\n",
       "      <td>4.5</td>\n",
       "      <td>4.0</td>\n",
       "      <td>4.5</td>\n",
       "      <td>4.0</td>\n",
       "    </tr>\n",
       "  </tbody>\n",
       "</table>\n",
       "</div>"
      ],
      "text/plain": [
       "   review_appearance  review_aroma  review_palate  review_taste  \\\n",
       "0                2.5           2.0            1.5           1.5   \n",
       "1                3.0           2.5            3.0           3.0   \n",
       "2                3.0           2.5            3.0           3.0   \n",
       "3                3.5           3.0            2.5           3.0   \n",
       "4                4.0           4.5            4.0           4.5   \n",
       "\n",
       "   review_overall  \n",
       "0             1.5  \n",
       "1             3.0  \n",
       "2             3.0  \n",
       "3             3.0  \n",
       "4             4.0  "
      ]
     },
     "execution_count": 30,
     "metadata": {},
     "output_type": "execute_result"
    }
   ],
   "source": [
    "predictors = [\n",
    "    \"review_appearance\",\n",
    "    \"review_aroma\",\n",
    "    \"review_palate\",\n",
    "    \"review_taste\",\n",
    "]\n",
    "\n",
    "predicted = [\"review_overall\"]\n",
    "\n",
    "df_q3 = df[predictors + predicted]\n",
    "df_q3.head()"
   ]
  },
  {
   "cell_type": "code",
   "execution_count": 31,
   "metadata": {},
   "outputs": [
    {
     "data": {
      "text/plain": [
       "array([[-2.1776625 , -2.48795155, -3.28883272, -3.13245406, -3.21331018],\n",
       "       [-1.36609615, -1.7712254 , -1.09012252, -1.08318801, -1.13177402],\n",
       "       [-1.36609615, -1.7712254 , -1.09012252, -1.08318801, -1.13177402],\n",
       "       ...,\n",
       "       [-1.36609615, -0.33777308, -0.35721912,  0.28298936,  0.94976213],\n",
       "       [ 1.06860288,  1.09567923,  1.10858768,  0.96607804,  0.25591675],\n",
       "       [ 1.06860288,  1.09567923,  1.10858768,  0.96607804,  1.64360752]])"
      ]
     },
     "execution_count": 31,
     "metadata": {},
     "output_type": "execute_result"
    }
   ],
   "source": [
    "scaler = StandardScaler()\n",
    "scaler.fit(df_q3)\n",
    "X_y = scaler.transform(df_q3)\n",
    "X_y"
   ]
  },
  {
   "cell_type": "code",
   "execution_count": 32,
   "metadata": {},
   "outputs": [],
   "source": [
    "X = X_y[:, :4]\n",
    "y = X_y[:, 4]"
   ]
  },
  {
   "cell_type": "code",
   "execution_count": 33,
   "metadata": {},
   "outputs": [
    {
     "data": {
      "text/plain": [
       "LinearRegression()"
      ]
     },
     "execution_count": 33,
     "metadata": {},
     "output_type": "execute_result"
    }
   ],
   "source": [
    "reg = LinearRegression()\n",
    "reg.fit(X, y)"
   ]
  },
  {
   "cell_type": "code",
   "execution_count": 34,
   "metadata": {},
   "outputs": [
    {
     "name": "stdout",
     "output_type": "stream",
     "text": [
      "R2: 0.6581\n"
     ]
    }
   ],
   "source": [
    "print(f\"R2: {reg.score(X, y):.4f}\")"
   ]
  },
  {
   "cell_type": "code",
   "execution_count": 35,
   "metadata": {},
   "outputs": [
    {
     "name": "stdout",
     "output_type": "stream",
     "text": [
      "Feature: 0 (review_appearance), Score: 0.0307\n",
      "Feature: 1 (review_aroma), Score: 0.0463\n",
      "Feature: 2 (review_palate), Score: 0.2447\n",
      "Feature: 3 (review_taste), Score: 0.5602\n"
     ]
    },
    {
     "data": {
      "image/png": "[encoded data removed]",
      "text/plain": [
       "<Figure size 432x288 with 1 Axes>"
      ]
     },
     "metadata": {
      "needs_background": "light"
     },
     "output_type": "display_data"
    }
   ],
   "source": [
    "importance = reg.coef_\n",
    "\n",
    "for i, v in enumerate(importance):\n",
    "    print(f'Feature: {i:0d} ({predictors[i]}), Score: {v:.4f}')\n",
    "\n",
    "plt.bar([x for x in range(len(importance))], importance)\n",
    "plt.show()"
   ]
  },
  {
   "cell_type": "markdown",
   "metadata": {},
   "source": [
    "**Conclusion**\n",
    "\n",
    "Based on the calculated feature importances, it seems clear that taste has the highest impact on the overall score (quality), and palate is the next. This is true, but we need to take into account there may be correlations between those four components as they are intrisically linked to each other. This may have an impact on the importance and a detailed analysis should be make to confirm these findings. We may also include the reviewer bias into account."
   ]
  },
  {
   "cell_type": "markdown",
   "metadata": {},
   "source": [
    "## Q4: I enjoy a beer which aroma and appearance matches the beer style. What beer should I buy?"
   ]
  },
  {
   "cell_type": "markdown",
   "metadata": {},
   "source": [
    "I believe that a beer which aroma and appearance matches the beer style is the beer where the review scores both in aroma and appearance are highest. Otherwise, if aroma and appearance didn't match the beer style, the reviewer wouldn't give 5 stars to that beer. After all, they assess how good the beer is (and indirectly, how close the beer is to the perceived \"ideal\", i.e. the beer that matches its style perfectly). Therefore, the higher the score is, the closer are the beer characteristics to the beer style."
   ]
  },
  {
   "cell_type": "markdown",
   "metadata": {},
   "source": [
    "To calculate the beer for which the aroma and appearance are the highest, I would you a two-step approach:\n",
    "- average aroma and appearance scores using the arithmetic mean\n",
    "- average that average score per bear\n",
    "- normalize scores using the approach from Q2 (using prior/posterior beta distributions)"
   ]
  },
  {
   "cell_type": "code",
   "execution_count": 36,
   "metadata": {},
   "outputs": [
    {
     "data": {
      "text/html": [
       "<div>\n",
       "<style scoped>\n",
       "    .dataframe tbody tr th:only-of-type {\n",
       "        vertical-align: middle;\n",
       "    }\n",
       "\n",
       "    .dataframe tbody tr th {\n",
       "        vertical-align: top;\n",
       "    }\n",
       "\n",
       "    .dataframe thead th {\n",
       "        text-align: right;\n",
       "    }\n",
       "</style>\n",
       "<table border=\"1\" class=\"dataframe\">\n",
       "  <thead>\n",
       "    <tr style=\"text-align: right;\">\n",
       "      <th></th>\n",
       "      <th></th>\n",
       "      <th>avg_aroma_appearance_score</th>\n",
       "      <th>count_of_reviews</th>\n",
       "    </tr>\n",
       "    <tr>\n",
       "      <th>beer_beerid</th>\n",
       "      <th>beer_name</th>\n",
       "      <th></th>\n",
       "      <th></th>\n",
       "    </tr>\n",
       "  </thead>\n",
       "  <tbody>\n",
       "    <tr>\n",
       "      <th>20394</th>\n",
       "      <th>Alternator Double Malt</th>\n",
       "      <td>5.0</td>\n",
       "      <td>1</td>\n",
       "    </tr>\n",
       "    <tr>\n",
       "      <th>39926</th>\n",
       "      <th>Bottleworks Imagination Series VIII Laphroaig Barrel Aged Scotch Ale</th>\n",
       "      <td>5.0</td>\n",
       "      <td>1</td>\n",
       "    </tr>\n",
       "    <tr>\n",
       "      <th>27766</th>\n",
       "      <th>Grand Cru</th>\n",
       "      <td>5.0</td>\n",
       "      <td>1</td>\n",
       "    </tr>\n",
       "    <tr>\n",
       "      <th>29423</th>\n",
       "      <th>Old Gander Barley Wine</th>\n",
       "      <td>5.0</td>\n",
       "      <td>1</td>\n",
       "    </tr>\n",
       "    <tr>\n",
       "      <th>1131</th>\n",
       "      <th>Bourbon Barrel Stout</th>\n",
       "      <td>5.0</td>\n",
       "      <td>1</td>\n",
       "    </tr>\n",
       "    <tr>\n",
       "      <th>...</th>\n",
       "      <th>...</th>\n",
       "      <td>...</td>\n",
       "      <td>...</td>\n",
       "    </tr>\n",
       "    <tr>\n",
       "      <th>11350</th>\n",
       "      <th>Scorcher Summer Ale</th>\n",
       "      <td>1.0</td>\n",
       "      <td>1</td>\n",
       "    </tr>\n",
       "    <tr>\n",
       "      <th>20858</th>\n",
       "      <th>Berliner Bürgerbräu Königsschlösser</th>\n",
       "      <td>1.0</td>\n",
       "      <td>1</td>\n",
       "    </tr>\n",
       "    <tr>\n",
       "      <th>32505</th>\n",
       "      <th>Wasabi Dry</th>\n",
       "      <td>1.0</td>\n",
       "      <td>1</td>\n",
       "    </tr>\n",
       "    <tr>\n",
       "      <th>77069</th>\n",
       "      <th>Shady Lady Rose Infused Premium Lager Beer</th>\n",
       "      <td>1.0</td>\n",
       "      <td>1</td>\n",
       "    </tr>\n",
       "    <tr>\n",
       "      <th>61530</th>\n",
       "      <th>Hot Head Red</th>\n",
       "      <td>1.0</td>\n",
       "      <td>1</td>\n",
       "    </tr>\n",
       "  </tbody>\n",
       "</table>\n",
       "<p>66055 rows × 2 columns</p>\n",
       "</div>"
      ],
      "text/plain": [
       "                                                                avg_aroma_appearance_score  \\\n",
       "beer_beerid beer_name                                                                        \n",
       "20394       Alternator Double Malt                                                     5.0   \n",
       "39926       Bottleworks Imagination Series VIII Laphroaig B...                         5.0   \n",
       "27766       Grand Cru                                                                  5.0   \n",
       "29423       Old Gander Barley Wine                                                     5.0   \n",
       "1131        Bourbon Barrel Stout                                                       5.0   \n",
       "...                                                                                    ...   \n",
       "11350       Scorcher Summer Ale                                                        1.0   \n",
       "20858       Berliner Bürgerbräu Königsschlösser                                        1.0   \n",
       "32505       Wasabi Dry                                                                 1.0   \n",
       "77069       Shady Lady Rose Infused Premium Lager Beer                                 1.0   \n",
       "61530       Hot Head Red                                                               1.0   \n",
       "\n",
       "                                                                count_of_reviews  \n",
       "beer_beerid beer_name                                                             \n",
       "20394       Alternator Double Malt                                             1  \n",
       "39926       Bottleworks Imagination Series VIII Laphroaig B...                 1  \n",
       "27766       Grand Cru                                                          1  \n",
       "29423       Old Gander Barley Wine                                             1  \n",
       "1131        Bourbon Barrel Stout                                               1  \n",
       "...                                                                          ...  \n",
       "11350       Scorcher Summer Ale                                                1  \n",
       "20858       Berliner Bürgerbräu Königsschlösser                                1  \n",
       "32505       Wasabi Dry                                                         1  \n",
       "77069       Shady Lady Rose Infused Premium Lager Beer                         1  \n",
       "61530       Hot Head Red                                                       1  \n",
       "\n",
       "[66055 rows x 2 columns]"
      ]
     },
     "execution_count": 36,
     "metadata": {},
     "output_type": "execute_result"
    }
   ],
   "source": [
    "df_q4 = df.copy()\n",
    "df_q4['aroma_appearance_score'] = (df['review_appearance'] + df['review_aroma']) / 2\n",
    "\n",
    "beer_review_scores_q4 = df_q4.groupby(['beer_beerid', 'beer_name']).aroma_appearance_score.mean()\n",
    "beer_review_scores_q4.name = 'avg_aroma_appearance_score'\n",
    "\n",
    "beer_review_count_q4 = df_q4.groupby(['beer_beerid', 'beer_name']).beer_beerid.count()\n",
    "beer_review_count_q4.name = 'count_of_reviews'\n",
    "\n",
    "beer_reviews_q4 = pd.concat([beer_review_scores_q4, beer_review_count_q4], axis=1)\n",
    "beer_reviews_q4.sort_values(by=['avg_aroma_appearance_score'], ascending=False)  # Before normalization"
   ]
  },
  {
   "cell_type": "code",
   "execution_count": 38,
   "metadata": {},
   "outputs": [
    {
     "data": {
      "text/html": [
       "<div>\n",
       "<style scoped>\n",
       "    .dataframe tbody tr th:only-of-type {\n",
       "        vertical-align: middle;\n",
       "    }\n",
       "\n",
       "    .dataframe tbody tr th {\n",
       "        vertical-align: top;\n",
       "    }\n",
       "\n",
       "    .dataframe thead th {\n",
       "        text-align: right;\n",
       "    }\n",
       "</style>\n",
       "<table border=\"1\" class=\"dataframe\">\n",
       "  <thead>\n",
       "    <tr style=\"text-align: right;\">\n",
       "      <th></th>\n",
       "      <th></th>\n",
       "      <th>avg_aroma_appearance_score</th>\n",
       "      <th>count_of_reviews</th>\n",
       "      <th>normalized_aroma_appearance_score</th>\n",
       "    </tr>\n",
       "    <tr>\n",
       "      <th>beer_beerid</th>\n",
       "      <th>beer_name</th>\n",
       "      <th></th>\n",
       "      <th></th>\n",
       "      <th></th>\n",
       "    </tr>\n",
       "  </thead>\n",
       "  <tbody>\n",
       "    <tr>\n",
       "      <th>21690</th>\n",
       "      <th>Pliny The Younger</th>\n",
       "      <td>4.603279</td>\n",
       "      <td>610</td>\n",
       "      <td>4.590244</td>\n",
       "    </tr>\n",
       "    <tr>\n",
       "      <th>36316</th>\n",
       "      <th>Cantillon Blåbær Lambik</th>\n",
       "      <td>4.586538</td>\n",
       "      <td>156</td>\n",
       "      <td>4.537267</td>\n",
       "    </tr>\n",
       "    <tr>\n",
       "      <th>42349</th>\n",
       "      <th>Vanilla Bean Aged Dark Lord</th>\n",
       "      <td>4.583882</td>\n",
       "      <td>152</td>\n",
       "      <td>4.533439</td>\n",
       "    </tr>\n",
       "    <tr>\n",
       "      <th>34420</th>\n",
       "      <th>The Abyss</th>\n",
       "      <td>4.518414</td>\n",
       "      <td>1412</td>\n",
       "      <td>4.513056</td>\n",
       "    </tr>\n",
       "    <tr>\n",
       "      <th>1545</th>\n",
       "      <th>Trappist Westvleteren 12</th>\n",
       "      <td>4.518671</td>\n",
       "      <td>1272</td>\n",
       "      <td>4.512725</td>\n",
       "    </tr>\n",
       "    <tr>\n",
       "      <th>...</th>\n",
       "      <th>...</th>\n",
       "      <td>...</td>\n",
       "      <td>...</td>\n",
       "      <td>...</td>\n",
       "    </tr>\n",
       "    <tr>\n",
       "      <th>14697</th>\n",
       "      <th>Stite Light Lager</th>\n",
       "      <td>1.222222</td>\n",
       "      <td>9</td>\n",
       "      <td>1.857143</td>\n",
       "    </tr>\n",
       "    <tr>\n",
       "      <th>37424</th>\n",
       "      <th>Bud Light Chelada</th>\n",
       "      <td>1.802632</td>\n",
       "      <td>114</td>\n",
       "      <td>1.852941</td>\n",
       "    </tr>\n",
       "    <tr>\n",
       "      <th>233</th>\n",
       "      <th>Corona Light</th>\n",
       "      <td>1.777778</td>\n",
       "      <td>342</td>\n",
       "      <td>1.795389</td>\n",
       "    </tr>\n",
       "    <tr>\n",
       "      <th>1524</th>\n",
       "      <th>Natural Light</th>\n",
       "      <td>1.765038</td>\n",
       "      <td>532</td>\n",
       "      <td>1.776536</td>\n",
       "    </tr>\n",
       "    <tr>\n",
       "      <th>3734</th>\n",
       "      <th>Michelob Ultra</th>\n",
       "      <td>1.756214</td>\n",
       "      <td>523</td>\n",
       "      <td>1.767992</td>\n",
       "    </tr>\n",
       "  </tbody>\n",
       "</table>\n",
       "<p>66055 rows × 3 columns</p>\n",
       "</div>"
      ],
      "text/plain": [
       "                                         avg_aroma_appearance_score  \\\n",
       "beer_beerid beer_name                                                 \n",
       "21690       Pliny The Younger                              4.603279   \n",
       "36316       Cantillon Blåbær Lambik                        4.586538   \n",
       "42349       Vanilla Bean Aged Dark Lord                    4.583882   \n",
       "34420       The Abyss                                      4.518414   \n",
       "1545        Trappist Westvleteren 12                       4.518671   \n",
       "...                                                             ...   \n",
       "14697       Stite Light Lager                              1.222222   \n",
       "37424       Bud Light Chelada                              1.802632   \n",
       "233         Corona Light                                   1.777778   \n",
       "1524        Natural Light                                  1.765038   \n",
       "3734        Michelob Ultra                                 1.756214   \n",
       "\n",
       "                                         count_of_reviews  \\\n",
       "beer_beerid beer_name                                       \n",
       "21690       Pliny The Younger                         610   \n",
       "36316       Cantillon Blåbær Lambik                   156   \n",
       "42349       Vanilla Bean Aged Dark Lord               152   \n",
       "34420       The Abyss                                1412   \n",
       "1545        Trappist Westvleteren 12                 1272   \n",
       "...                                                   ...   \n",
       "14697       Stite Light Lager                           9   \n",
       "37424       Bud Light Chelada                         114   \n",
       "233         Corona Light                              342   \n",
       "1524        Natural Light                             532   \n",
       "3734        Michelob Ultra                            523   \n",
       "\n",
       "                                         normalized_aroma_appearance_score  \n",
       "beer_beerid beer_name                                                       \n",
       "21690       Pliny The Younger                                     4.590244  \n",
       "36316       Cantillon Blåbær Lambik                               4.537267  \n",
       "42349       Vanilla Bean Aged Dark Lord                           4.533439  \n",
       "34420       The Abyss                                             4.513056  \n",
       "1545        Trappist Westvleteren 12                              4.512725  \n",
       "...                                                                    ...  \n",
       "14697       Stite Light Lager                                     1.857143  \n",
       "37424       Bud Light Chelada                                     1.852941  \n",
       "233         Corona Light                                          1.795389  \n",
       "1524        Natural Light                                         1.776536  \n",
       "3734        Michelob Ultra                                        1.767992  \n",
       "\n",
       "[66055 rows x 3 columns]"
      ]
     },
     "execution_count": 38,
     "metadata": {},
     "output_type": "execute_result"
    }
   ],
   "source": [
    "alpha = 3\n",
    "beta = 2\n",
    "divider = 5\n",
    "\n",
    "beer_reviews_q4['normalized_aroma_appearance_score'] = (alpha + \\\n",
    "                                   beer_reviews_q4.count_of_reviews * (beer_reviews_q4.avg_aroma_appearance_score / divider)) \\\n",
    "                                  / (alpha + beta + beer_reviews_q4.count_of_reviews) * divider\n",
    "\n",
    "beer_reviews_q4 = beer_reviews_q4.sort_values(by=['normalized_aroma_appearance_score'], ascending=False)\n",
    "beer_reviews_q4"
   ]
  },
  {
   "cell_type": "markdown",
   "metadata": {},
   "source": [
    "**Conclusion**\n",
    "\n",
    "Based on the above methodology and data, I would recommend the following 3 beers:\n",
    "- Pliny The Younger\n",
    "- Cantillon Blåbær Lambik\n",
    "- Vanilla Bean Aged Dark Lord"
   ]
  },
  {
   "cell_type": "code",
   "execution_count": 39,
   "metadata": {},
   "outputs": [
    {
     "data": {
      "text/html": [
       "<div>\n",
       "<style scoped>\n",
       "    .dataframe tbody tr th:only-of-type {\n",
       "        vertical-align: middle;\n",
       "    }\n",
       "\n",
       "    .dataframe tbody tr th {\n",
       "        vertical-align: top;\n",
       "    }\n",
       "\n",
       "    .dataframe thead th {\n",
       "        text-align: right;\n",
       "    }\n",
       "</style>\n",
       "<table border=\"1\" class=\"dataframe\">\n",
       "  <thead>\n",
       "    <tr style=\"text-align: right;\">\n",
       "      <th></th>\n",
       "      <th></th>\n",
       "      <th>avg_aroma_appearance_score</th>\n",
       "      <th>count_of_reviews</th>\n",
       "      <th>normalized_aroma_appearance_score</th>\n",
       "    </tr>\n",
       "    <tr>\n",
       "      <th>beer_beerid</th>\n",
       "      <th>beer_name</th>\n",
       "      <th></th>\n",
       "      <th></th>\n",
       "      <th></th>\n",
       "    </tr>\n",
       "  </thead>\n",
       "  <tbody>\n",
       "    <tr>\n",
       "      <th>21690</th>\n",
       "      <th>Pliny The Younger</th>\n",
       "      <td>4.603279</td>\n",
       "      <td>610</td>\n",
       "      <td>4.590244</td>\n",
       "    </tr>\n",
       "    <tr>\n",
       "      <th>36316</th>\n",
       "      <th>Cantillon Blåbær Lambik</th>\n",
       "      <td>4.586538</td>\n",
       "      <td>156</td>\n",
       "      <td>4.537267</td>\n",
       "    </tr>\n",
       "    <tr>\n",
       "      <th>42349</th>\n",
       "      <th>Vanilla Bean Aged Dark Lord</th>\n",
       "      <td>4.583882</td>\n",
       "      <td>152</td>\n",
       "      <td>4.533439</td>\n",
       "    </tr>\n",
       "  </tbody>\n",
       "</table>\n",
       "</div>"
      ],
      "text/plain": [
       "                                         avg_aroma_appearance_score  \\\n",
       "beer_beerid beer_name                                                 \n",
       "21690       Pliny The Younger                              4.603279   \n",
       "36316       Cantillon Blåbær Lambik                        4.586538   \n",
       "42349       Vanilla Bean Aged Dark Lord                    4.583882   \n",
       "\n",
       "                                         count_of_reviews  \\\n",
       "beer_beerid beer_name                                       \n",
       "21690       Pliny The Younger                         610   \n",
       "36316       Cantillon Blåbær Lambik                   156   \n",
       "42349       Vanilla Bean Aged Dark Lord               152   \n",
       "\n",
       "                                         normalized_aroma_appearance_score  \n",
       "beer_beerid beer_name                                                       \n",
       "21690       Pliny The Younger                                     4.590244  \n",
       "36316       Cantillon Blåbær Lambik                               4.537267  \n",
       "42349       Vanilla Bean Aged Dark Lord                           4.533439  "
      ]
     },
     "execution_count": 39,
     "metadata": {},
     "output_type": "execute_result"
    }
   ],
   "source": [
    "beer_reviews_q4.head(3)"
   ]
  }
 ],
 "metadata": {
  "kernelspec": {
   "display_name": "Python 3",
   "language": "python",
   "name": "python3"
  },
  "language_info": {
   "codemirror_mode": {
    "name": "ipython",
    "version": 3
   },
   "file_extension": ".py",
   "mimetype": "text/x-python",
   "name": "python",
   "nbconvert_exporter": "python",
   "pygments_lexer": "ipython3",
   "version": "3.8.5"
  }
 },
 "nbformat": 4,
 "nbformat_minor": 4
}
